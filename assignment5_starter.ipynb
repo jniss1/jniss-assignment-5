{
  "cells": [
    {
      "cell_type": "code",
      "execution_count": 2,
      "metadata": {
        "id": "SlwB473ivKSE"
      },
      "outputs": [],
      "source": [
        "import numpy as np\n",
        "import pandas as pd"
      ]
    },
    {
      "cell_type": "code",
      "execution_count": 30,
      "metadata": {
        "id": "ZMMpUVV4vKSH"
      },
      "outputs": [],
      "source": [
        "# Define the KNN class\n",
        "class KNN:\n",
        "    def __init__(self, k=3, distance_metric='euclidean'):\n",
        "        self.k = k\n",
        "        self.distance_metric = distance_metric\n",
        "\n",
        "    def fit(self, X, y):\n",
        "        self.X_train = np.array(X)\n",
        "        self.y_train = np.array(y)\n",
        "\n",
        "    def predict(self, X):\n",
        "        X = np.array(X)\n",
        "        y_pred = [self._predict(x) for x in X]\n",
        "        return np.array(y_pred)\n",
        "\n",
        "    def _predict(self, x):\n",
        "        if self.distance_metric == 'euclidean':\n",
        "            distances = np.sqrt(np.sum((self.X_train - x) ** 2, axis=1))\n",
        "        elif self.distance_metric == 'manhattan':\n",
        "            distances = np.sum(np.abs(self.X_train - x), axis=1)\n",
        "        k_indices = np.argsort(distances)[:self.k]\n",
        "        k_nearest_labels = self.y_train[k_indices]\n",
        "        most_common = pd.Series(k_nearest_labels).mode()[0]\n",
        "        return most_common"
      ]
    },
    {
      "cell_type": "code",
      "execution_count": 12,
      "metadata": {
        "id": "N_MXZpg_vKSI"
      },
      "outputs": [],
      "source": [
        "# Define data preprocessing function\n",
        "\n",
        "def preprocess_data(train_path, test_path):\n",
        "    train_data = pd.read_csv(train_path)\n",
        "    test_data = pd.read_csv(test_path)\n",
        "\n",
        "    # Handle categorical variables using one-hot encoding\n",
        "    train_data = pd.get_dummies(train_data)\n",
        "    test_data = pd.get_dummies(test_data)\n",
        "\n",
        "    # Align the columns of the train and test datasets (to ensure they have the same columns)\n",
        "    train_data, test_data = train_data.align(test_data, join='left', axis=1, fill_value=0)\n",
        "\n",
        "    # Scale numerical features\n",
        "    numerical_cols = train_data.select_dtypes(include=['int64', 'float64']).columns\n",
        "\n",
        "    for col in numerical_cols:\n",
        "        if col != \"Exited\":\n",
        "            mean = train_data[col].mean()\n",
        "            std = train_data[col].std()\n",
        "            train_data[col] = (train_data[col] - mean) / std\n",
        "            test_data[col] = (test_data[col] - mean) / std\n",
        "\n",
        "    X = train_data\n",
        "    y = train_data\n",
        "\n",
        "    return X, y, test_data\n",
        "\n"
      ]
    },
    {
      "cell_type": "code",
      "execution_count": 31,
      "metadata": {},
      "outputs": [],
      "source": [
        "def cross_validate(X, y, knn, n_splits=5):\n",
        "    X, y = np.array(X), np.array(y)\n",
        "    indices = np.arange(len(X))\n",
        "    np.random.shuffle(indices)\n",
        "    fold_size = len(X) // n_splits\n",
        "    auc_scores = []\n",
        "\n",
        "    for i in range(n_splits):\n",
        "        test_indices = indices[i * fold_size: (i + 1) * fold_size]\n",
        "        train_indices = np.concatenate([indices[:i * fold_size], indices[(i + 1) * fold_size:]])\n",
        "        \n",
        "        X_train, y_train = X[train_indices], y[train_indices]\n",
        "        X_val, y_val = X[test_indices], y[test_indices]\n",
        "\n",
        "        knn.fit(X_train, y_train)\n",
        "        y_prob = knn.predict(X_val)\n",
        "\n",
        "        auc_score = compute_roc_auc(y_val, y_prob)\n",
        "        auc_scores.append(auc_score)\n",
        "\n",
        "        return np.mean(auc_scores)\n",
        "\n",
        "def compute_roc_auc(y_true, y_pred):\n",
        "        sorted_indices = np.argsort(y_pred)\n",
        "        y_true_sorted = y_true[sorted_indices]\n",
        "        y_pred_sorted = y_pred[sorted_indices]\n",
        "\n",
        "        tprs = np.cumsum(y_true_sorted == 1) / np.sum(y_true_sorted == 1)\n",
        "        fprs = np.cumsum(y_true_sorted == 0) / np.sum(y_true_sorted == 0)\n",
        "        \n",
        "        tprs = np.concatenate([[0], tprs, [1]])\n",
        "        fprs = np.concatenate([[0], fprs, [1]])\n",
        "        \n",
        "        auc = np.trapz(tprs, fprs)\n",
        "        return auc"
      ]
    },
    {
      "cell_type": "code",
      "execution_count": 32,
      "metadata": {
        "id": "tIGL_zacvKSI"
      },
      "outputs": [
        {
          "ename": "TypeError",
          "evalue": "loop of ufunc does not support argument 0 of type float which has no callable sqrt method",
          "output_type": "error",
          "traceback": [
            "\u001b[0;31m---------------------------------------------------------------------------\u001b[0m",
            "\u001b[0;31mAttributeError\u001b[0m                            Traceback (most recent call last)",
            "\u001b[0;31mAttributeError\u001b[0m: 'float' object has no attribute 'sqrt'",
            "\nThe above exception was the direct cause of the following exception:\n",
            "\u001b[0;31mTypeError\u001b[0m                                 Traceback (most recent call last)",
            "Cell \u001b[0;32mIn[32], line 8\u001b[0m\n\u001b[1;32m      5\u001b[0m knn \u001b[38;5;241m=\u001b[39m KNN(k\u001b[38;5;241m=\u001b[39m\u001b[38;5;241m5\u001b[39m, distance_metric\u001b[38;5;241m=\u001b[39m\u001b[38;5;124m'\u001b[39m\u001b[38;5;124meuclidean\u001b[39m\u001b[38;5;124m'\u001b[39m)\n\u001b[1;32m      7\u001b[0m \u001b[38;5;66;03m# Perform cross-validation\u001b[39;00m\n\u001b[0;32m----> 8\u001b[0m cv_scores \u001b[38;5;241m=\u001b[39m \u001b[43mcross_validate\u001b[49m\u001b[43m(\u001b[49m\u001b[43mX\u001b[49m\u001b[43m,\u001b[49m\u001b[43m \u001b[49m\u001b[43my\u001b[49m\u001b[43m,\u001b[49m\u001b[43m \u001b[49m\u001b[43mknn\u001b[49m\u001b[43m)\u001b[49m\n",
            "Cell \u001b[0;32mIn[31], line 16\u001b[0m, in \u001b[0;36mcross_validate\u001b[0;34m(X, y, knn, n_splits)\u001b[0m\n\u001b[1;32m     13\u001b[0m X_val, y_val \u001b[38;5;241m=\u001b[39m X[test_indices], y[test_indices]\n\u001b[1;32m     15\u001b[0m knn\u001b[38;5;241m.\u001b[39mfit(X_train, y_train)\n\u001b[0;32m---> 16\u001b[0m y_prob \u001b[38;5;241m=\u001b[39m \u001b[43mknn\u001b[49m\u001b[38;5;241;43m.\u001b[39;49m\u001b[43mpredict\u001b[49m\u001b[43m(\u001b[49m\u001b[43mX_val\u001b[49m\u001b[43m)\u001b[49m\n\u001b[1;32m     18\u001b[0m auc_score \u001b[38;5;241m=\u001b[39m compute_roc_auc(y_val, y_prob)\n\u001b[1;32m     19\u001b[0m auc_scores\u001b[38;5;241m.\u001b[39mappend(auc_score)\n",
            "Cell \u001b[0;32mIn[30], line 13\u001b[0m, in \u001b[0;36mKNN.predict\u001b[0;34m(self, X)\u001b[0m\n\u001b[1;32m     11\u001b[0m \u001b[38;5;28;01mdef\u001b[39;00m \u001b[38;5;21mpredict\u001b[39m(\u001b[38;5;28mself\u001b[39m, X):\n\u001b[1;32m     12\u001b[0m     X \u001b[38;5;241m=\u001b[39m np\u001b[38;5;241m.\u001b[39marray(X)\n\u001b[0;32m---> 13\u001b[0m     y_pred \u001b[38;5;241m=\u001b[39m \u001b[43m[\u001b[49m\u001b[38;5;28;43mself\u001b[39;49m\u001b[38;5;241;43m.\u001b[39;49m\u001b[43m_predict\u001b[49m\u001b[43m(\u001b[49m\u001b[43mx\u001b[49m\u001b[43m)\u001b[49m\u001b[43m \u001b[49m\u001b[38;5;28;43;01mfor\u001b[39;49;00m\u001b[43m \u001b[49m\u001b[43mx\u001b[49m\u001b[43m \u001b[49m\u001b[38;5;129;43;01min\u001b[39;49;00m\u001b[43m \u001b[49m\u001b[43mX\u001b[49m\u001b[43m]\u001b[49m\n\u001b[1;32m     14\u001b[0m     \u001b[38;5;28;01mreturn\u001b[39;00m np\u001b[38;5;241m.\u001b[39marray(y_pred)\n",
            "Cell \u001b[0;32mIn[30], line 13\u001b[0m, in \u001b[0;36m<listcomp>\u001b[0;34m(.0)\u001b[0m\n\u001b[1;32m     11\u001b[0m \u001b[38;5;28;01mdef\u001b[39;00m \u001b[38;5;21mpredict\u001b[39m(\u001b[38;5;28mself\u001b[39m, X):\n\u001b[1;32m     12\u001b[0m     X \u001b[38;5;241m=\u001b[39m np\u001b[38;5;241m.\u001b[39marray(X)\n\u001b[0;32m---> 13\u001b[0m     y_pred \u001b[38;5;241m=\u001b[39m [\u001b[38;5;28;43mself\u001b[39;49m\u001b[38;5;241;43m.\u001b[39;49m\u001b[43m_predict\u001b[49m\u001b[43m(\u001b[49m\u001b[43mx\u001b[49m\u001b[43m)\u001b[49m \u001b[38;5;28;01mfor\u001b[39;00m x \u001b[38;5;129;01min\u001b[39;00m X]\n\u001b[1;32m     14\u001b[0m     \u001b[38;5;28;01mreturn\u001b[39;00m np\u001b[38;5;241m.\u001b[39marray(y_pred)\n",
            "Cell \u001b[0;32mIn[30], line 18\u001b[0m, in \u001b[0;36mKNN._predict\u001b[0;34m(self, x)\u001b[0m\n\u001b[1;32m     16\u001b[0m \u001b[38;5;28;01mdef\u001b[39;00m \u001b[38;5;21m_predict\u001b[39m(\u001b[38;5;28mself\u001b[39m, x):\n\u001b[1;32m     17\u001b[0m     \u001b[38;5;28;01mif\u001b[39;00m \u001b[38;5;28mself\u001b[39m\u001b[38;5;241m.\u001b[39mdistance_metric \u001b[38;5;241m==\u001b[39m \u001b[38;5;124m'\u001b[39m\u001b[38;5;124meuclidean\u001b[39m\u001b[38;5;124m'\u001b[39m:\n\u001b[0;32m---> 18\u001b[0m         distances \u001b[38;5;241m=\u001b[39m \u001b[43mnp\u001b[49m\u001b[38;5;241;43m.\u001b[39;49m\u001b[43msqrt\u001b[49m\u001b[43m(\u001b[49m\u001b[43mnp\u001b[49m\u001b[38;5;241;43m.\u001b[39;49m\u001b[43msum\u001b[49m\u001b[43m(\u001b[49m\u001b[43m(\u001b[49m\u001b[38;5;28;43mself\u001b[39;49m\u001b[38;5;241;43m.\u001b[39;49m\u001b[43mX_train\u001b[49m\u001b[43m \u001b[49m\u001b[38;5;241;43m-\u001b[39;49m\u001b[43m \u001b[49m\u001b[43mx\u001b[49m\u001b[43m)\u001b[49m\u001b[43m \u001b[49m\u001b[38;5;241;43m*\u001b[39;49m\u001b[38;5;241;43m*\u001b[39;49m\u001b[43m \u001b[49m\u001b[38;5;241;43m2\u001b[39;49m\u001b[43m,\u001b[49m\u001b[43m \u001b[49m\u001b[43maxis\u001b[49m\u001b[38;5;241;43m=\u001b[39;49m\u001b[38;5;241;43m1\u001b[39;49m\u001b[43m)\u001b[49m\u001b[43m)\u001b[49m\n\u001b[1;32m     19\u001b[0m     \u001b[38;5;28;01melif\u001b[39;00m \u001b[38;5;28mself\u001b[39m\u001b[38;5;241m.\u001b[39mdistance_metric \u001b[38;5;241m==\u001b[39m \u001b[38;5;124m'\u001b[39m\u001b[38;5;124mmanhattan\u001b[39m\u001b[38;5;124m'\u001b[39m:\n\u001b[1;32m     20\u001b[0m         distances \u001b[38;5;241m=\u001b[39m np\u001b[38;5;241m.\u001b[39msum(np\u001b[38;5;241m.\u001b[39mabs(\u001b[38;5;28mself\u001b[39m\u001b[38;5;241m.\u001b[39mX_train \u001b[38;5;241m-\u001b[39m x), axis\u001b[38;5;241m=\u001b[39m\u001b[38;5;241m1\u001b[39m)\n",
            "\u001b[0;31mTypeError\u001b[0m: loop of ufunc does not support argument 0 of type float which has no callable sqrt method"
          ]
        }
      ],
      "source": [
        "# Load and preprocess data\n",
        "X, y, X_test = preprocess_data(\"train.csv\", \"test.csv\")\n",
        "\n",
        "# Create and evaluate model\n",
        "knn = KNN(k=5, distance_metric='euclidean')\n",
        "\n",
        "# Perform cross-validation\n",
        "cv_scores = cross_validate(X, y, knn)\n",
        "\n"
      ]
    },
    {
      "cell_type": "code",
      "execution_count": null,
      "metadata": {},
      "outputs": [],
      "source": [
        "print(\"Cross-validation scores:\", cv_scores)\n",
        "\n",
        "# TODO: hyperparamters tuning\n",
        "best_k = 0\n",
        "best_distance_metric = ''\n",
        "best_auc_score = 0\n",
        "\n",
        "for k in [3, 5, 7]:\n",
        "    for metric in ['euclidean', 'manhattan']:\n",
        "        knn = KNN(k=k, distance_metric=metric)\n",
        "        auc_score = cross_validate(X, y, knn)\n",
        "        if auc_score > best_auc_score:\n",
        "            best_auc_score = auc_score\n",
        "            best_k = k\n",
        "            best_distance_metric = metric\n",
        "\n",
        "print(f\"Best k: {best_k}, Best distance metric: {best_distance_metric}, Best AUC score: {best_auc_score}\")\n",
        "\n",
        "# TODO: Train on full dataset with optimal hyperparameters and make predictions on test set\n",
        "knn = KNN(k=best_k, distance_metric=best_distance_metric)\n",
        "knn.fit(X, y)\n",
        "test_predictions = knn.predict(X_test)\n",
        "\n",
        "# Save test predictions\n",
        "pd.DataFrame({'id': pd.read_csv('/path/of/test.csv')['id'], 'Exited': test_predictions}).to_csv('submissions.csv', index=False)"
      ]
    }
  ],
  "metadata": {
    "colab": {
      "provenance": []
    },
    "kernelspec": {
      "display_name": "cs506",
      "language": "python",
      "name": "python3"
    },
    "language_info": {
      "codemirror_mode": {
        "name": "ipython",
        "version": 3
      },
      "file_extension": ".py",
      "mimetype": "text/x-python",
      "name": "python",
      "nbconvert_exporter": "python",
      "pygments_lexer": "ipython3",
      "version": "3.11.1"
    }
  },
  "nbformat": 4,
  "nbformat_minor": 0
}
